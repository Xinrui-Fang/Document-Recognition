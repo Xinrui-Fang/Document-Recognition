{
 "cells": [
  {
   "cell_type": "code",
   "execution_count": 1,
   "metadata": {},
   "outputs": [],
   "source": [
    "from skimage import io,data\n",
    "from matplotlib import pyplot as plt\n",
    "import numpy as np\n",
    "import cv2"
   ]
  },
  {
   "cell_type": "code",
   "execution_count": 2,
   "metadata": {},
   "outputs": [
    {
     "name": "stdout",
     "output_type": "stream",
     "text": [
      "[['956', '853', '1160', '853', '1160', '877', '956', '878'], ['1198', '856', '1378', '856', '1378', '894', '1198', '893'], ['935', '996', '1022', '996', '1021', '1018', '935', '1018'], ['1192', '902', '1285', '902', '1285', '928', '1192', '929'], ['263', '422', '287', '423', '286', '518', '262', '518'], ['323', '730', '433', '730', '433', '763', '323', '763'], ['83', '532', '126', '532', '124', '802', '81', '802'], ['1189', '968', '1237', '967', '1237', '989', '1189', '989'], ['292', '397', '315', '397', '316', '456', '292', '457'], ['1017', '901', '1118', '901', '1118', '926', '1017', '925'], ['40', '505', '98', '505', '98', '808', '39', '808'], ['1253', '968', '1314', '968', '1314', '987', '1253', '987'], ['222', '461', '245', '461', '245', '513', '222', '514'], ['562', '213', '604', '213', '604', '237', '562', '237'], ['232', '946', '509', '945', '509', '975', '232', '975'], ['951', '463', '974', '463', '973', '500', '951', '500'], ['467', '604', '533', '603', '533', '628', '467', '628'], ['267', '777', '514', '777', '514', '811', '267', '811'], ['748', '631', '838', '630', '838', '657', '748', '657'], ['867', '606', '1000', '606', '1000', '633', '867', '633'], ['1323', '968', '1376', '968', '1376', '990', '1323', '990'], ['804', '903', '840', '903', '840', '925', '804', '925'], ['312', '900', '512', '901', '512', '936', '312', '935'], ['567', '603', '618', '603', '618', '628', '567', '628'], ['287', '985', '355', '985', '355', '1011', '287', '1011'], ['495', '984', '557', '984', '557', '1011', '495', '1011'], ['1218', '570', '1245', '570', '1245', '653', '1217', '653'], ['976', '151', '1001', '151', '1000', '209', '976', '209'], ['189', '985', '257', '985', '257', '1010', '189', '1011'], ['521', '655', '562', '654', '562', '677', '522', '677'], ['589', '950', '640', '950', '640', '977', '589', '977'], ['764', '870', '803', '870', '803', '894', '764', '894'], ['715', '961', '776', '961', '776', '984', '716', '984'], ['660', '901', '700', '901', '699', '927', '659', '927'], ['389', '984', '450', '985', '449', '1011', '389', '1010'], ['550', '173', '618', '173', '619', '196', '550', '196'], ['447', '162', '488', '162', '488', '187', '447', '186'], ['941', '962', '1007', '962', '1007', '986', '941', '986'], ['1393', '969', '1446', '969', '1446', '991', '1393', '991'], ['1238', '63', '1319', '63', '1319', '105', '1238', '105'], ['823', '871', '859', '871', '859', '895', '823', '895'], ['954', '303', '982', '303', '982', '356', '954', '356'], ['1194', '189', '1239', '189', '1239', '222', '1194', '222'], ['1267', '938', '1306', '937', '1306', '959', '1267', '960'], ['1032', '996', '1076', '996', '1075', '1017', '1032', '1017'], ['659', '872', '701', '872', '701', '894', '659', '894'], ['650', '858', '702', '859', '700', '985', '648', '984'], ['708', '871', '741', '871', '741', '892', '708', '892'], ['866', '870', '905', '870', '904', '895', '866', '895'], ['326', '317', '349', '317', '349', '361', '326', '361'], ['194', '294', '280', '294', '280', '320', '194', '320'], ['1101', '638', '1128', '638', '1128', '663', '1101', '663'], ['789', '957', '831', '956', '831', '986', '789', '986'], ['717', '989', '765', '988', '765', '1013', '717', '1014'], ['751', '395', '774', '395', '774', '446', '750', '446'], ['1008', '645', '1038', '644', '1038', '670', '1008', '671'], ['1019', '934', '1078', '934', '1078', '957', '1019', '957'], ['69', '816', '117', '816', '116', '924', '68', '923'], ['205', '118', '236', '118', '235', '192', '204', '192'], ['435', '195', '471', '195', '472', '259', '435', '259'], ['784', '991', '827', '991', '827', '1013', '784', '1014'], ['1338', '675', '1383', '675', '1383', '700', '1338', '700'], ['671', '956', '705', '956', '705', '982', '671', '982'], ['829', '993', '914', '993', '914', '1015', '830', '1015'], ['1216', '460', '1239', '460', '1239', '491', '1216', '491'], ['1150', '172', '1185', '172', '1185', '194', '1150', '194'], ['1365', '58', '1412', '58', '1413', '108', '1365', '108'], ['699', '311', '731', '311', '731', '363', '698', '363'], ['1029', '880', '1096', '880', '1096', '899', '1029', '899'], ['1185', '998', '1244', '998', '1244', '1021', '1185', '1021'], ['1327', '935', '1371', '935', '1370', '961', '1327', '961'], ['462', '946', '582', '945', '582', '978', '463', '979'], ['1196', '936', '1237', '936', '1237', '958', '1196', '958'], ['1051', '522', '1088', '523', '1085', '634', '1049', '633'], ['1023', '964', '1070', '964', '1070', '987', '1023', '987'], ['1107', '177', '1131', '177', '1131', '202', '1107', '202'], ['959', '534', '1011', '534', '1011', '560', '959', '560'], ['935', '935', '989', '935', '989', '958', '935', '958'], ['781', '919', '843', '919', '843', '959', '780', '959'], ['960', '571', '1005', '571', '1005', '597', '960', '597'], ['594', '988', '631', '988', '631', '1011', '594', '1011'], ['1150', '598', '1176', '598', '1176', '628', '1150', '628'], ['988', '911', '1032', '911', '1031', '992', '987', '992'], ['1094', '318', '1139', '318', '1139', '346', '1094', '346'], ['1414', '939', '1440', '939', '1440', '964', '1414', '964'], ['172', '941', '281', '941', '281', '982', '172', '982'], ['954', '362', '992', '363', '992', '469', '953', '469'], ['1157', '326', '1185', '326', '1185', '367', '1157', '367'], ['419', '900', '453', '900', '453', '936', '420', '936'], ['473', '899', '503', '899', '503', '936', '474', '937'], ['1394', '674', '1418', '674', '1418', '703', '1394', '703'], ['366', '900', '401', '900', '401', '951', '366', '951'], ['652', '303', '696', '303', '696', '351', '652', '351'], ['984', '433', '1028', '433', '1028', '467', '984', '467'], ['656', '990', '698', '989', '699', '1010', '656', '1010'], ['1043', '263', '1081', '263', '1081', '349', '1043', '349'], ['698', '365', '730', '365', '730', '401', '698', '401'], ['1121', '430', '1164', '431', '1164', '492', '1121', '492'], ['326', '384', '349', '384', '350', '414', '326', '415'], ['1188', '531', '1227', '531', '1227', '572', '1189', '572'], ['401', '283', '434', '283', '434', '313', '401', '313']]\n"
     ]
    }
   ],
   "source": [
    "file1 = open(\"11.txt\")\n",
    "# 按行读取\n",
    "contents = file1.readlines()\n",
    " \n",
    "# 数组\n",
    "arr1 = []\n",
    " \n",
    "for item in contents:\n",
    "    # 清除换行、空格\n",
    "    content = item.strip()\n",
    "    # 按照\",\"分割\n",
    "    temp = content.split(\",\")\n",
    "    arr1.append(temp)\n",
    "print(arr1)"
   ]
  },
  {
   "cell_type": "code",
   "execution_count": 3,
   "metadata": {},
   "outputs": [
    {
     "name": "stdout",
     "output_type": "stream",
     "text": [
      "[['55', '584', '93', '584', '91', '831', '54', '831'], ['195', '955', '555', '953', '555', '983', '196', '986'], ['878', '610', '1011', '611', '1011', '637', '878', '637'], ['976', '858', '1172', '857', '1172', '883', '976', '884'], ['273', '448', '294', '448', '293', '523', '272', '523'], ['88', '561', '120', '561', '121', '811', '90', '811'], ['763', '399', '787', '399', '786', '451', '763', '451'], ['327', '735', '440', '735', '440', '770', '327', '770'], ['1025', '905', '1130', '906', '1129', '932', '1025', '931'], ['265', '783', '516', '782', '517', '817', '265', '817'], ['572', '609', '628', '609', '628', '635', '572', '635'], ['1249', '72', '1325', '72', '1325', '111', '1249', '111'], ['943', '1001', '1029', '1001', '1029', '1025', '943', '1025'], ['1200', '907', '1294', '906', '1294', '932', '1200', '932'], ['1209', '861', '1378', '860', '1378', '897', '1210', '897'], ['335', '313', '358', '313', '359', '359', '335', '359'], ['393', '994', '453', '994', '453', '1020', '392', '1020'], ['796', '965', '846', '965', '847', '992', '796', '992'], ['498', '995', '559', '995', '559', '1021', '498', '1021'], ['1050', '1002', '1084', '1002', '1084', '1023', '1050', '1023'], ['1224', '570', '1251', '570', '1252', '655', '1225', '655'], ['480', '607', '544', '607', '544', '633', '480', '633'], ['526', '694', '577', '694', '577', '718', '526', '718'], ['563', '175', '632', '175', '633', '198', '563', '198'], ['1405', '972', '1451', '972', '1451', '996', '1406', '996'], ['726', '968', '786', '968', '786', '991', '726', '991'], ['799', '935', '849', '935', '849', '960', '798', '960'], ['668', '964', '707', '964', '707', '990', '668', '990'], ['669', '906', '705', '906', '706', '936', '669', '936'], ['1158', '178', '1194', '178', '1195', '201', '1158', '202'], ['595', '957', '651', '957', '651', '986', '595', '987'], ['967', '309', '992', '309', '992', '363', '967', '363'], ['230', '460', '253', '460', '253', '516', '230', '516'], ['964', '968', '1032', '969', '1032', '993', '964', '993'], ['216', '108', '249', '108', '250', '169', '217', '169'], ['1328', '972', '1383', '972', '1384', '993', '1328', '993'], ['293', '997', '354', '997', '354', '1022', '293', '1021'], ['337', '909', '510', '909', '510', '944', '337', '943'], ['972', '575', '1015', '575', '1015', '597', '972', '597'], ['300', '396', '323', '396', '324', '456', '301', '456'], ['665', '879', '708', '879', '708', '899', '665', '899'], ['1370', '66', '1416', '66', '1416', '116', '1370', '117'], ['1197', '972', '1244', '972', '1244', '993', '1197', '993'], ['1259', '972', '1321', '972', '1321', '992', '1259', '992'], ['665', '930', '699', '930', '699', '962', '665', '961'], ['765', '873', '802', '873', '802', '898', '765', '898'], ['575', '214', '616', '214', '616', '239', '575', '239'], ['713', '876', '751', '876', '751', '898', '713', '898'], ['827', '875', '865', '875', '866', '900', '827', '900'], ['816', '909', '847', '909', '847', '932', '816', '932'], ['874', '875', '915', '875', '915', '901', '874', '901'], ['959', '464', '985', '464', '985', '502', '959', '502'], ['200', '293', '289', '292', '289', '319', '201', '320'], ['188', '995', '261', '995', '261', '1022', '188', '1022'], ['68', '826', '112', '827', '110', '931', '66', '930'], ['1206', '194', '1245', '194', '1246', '226', '1206', '226'], ['729', '998', '778', '997', '778', '1021', '729', '1021'], ['842', '1001', '921', '1000', '921', '1021', '842', '1021'], ['446', '201', '480', '201', '480', '251', '446', '251'], ['988', '171', '1013', '171', '1013', '214', '988', '214'], ['795', '999', '838', '999', '838', '1023', '795', '1022'], ['1040', '884', '1105', '884', '1105', '904', '1040', '904'], ['1031', '941', '1086', '941', '1086', '963', '1031', '963'], ['1196', '1004', '1249', '1004', '1249', '1028', '1196', '1028'], ['1224', '467', '1248', '467', '1248', '499', '1224', '499'], ['667', '978', '709', '979', '709', '1026', '666', '1026'], ['756', '633', '832', '633', '832', '661', '756', '661'], ['1108', '328', '1148', '328', '1148', '349', '1108', '349'], ['1204', '940', '1242', '940', '1242', '962', '1204', '961'], ['970', '539', '1022', '539', '1022', '565', '970', '564'], ['1341', '677', '1392', '677', '1392', '704', '1341', '704'], ['1277', '943', '1312', '943', '1312', '963', '1277', '963'], ['1016', '648', '1045', '647', '1045', '672', '1016', '673'], ['1059', '601', '1095', '601', '1095', '626', '1060', '626'], ['1050', '947', '1078', '947', '1078', '1001', '1050', '1000'], ['450', '163', '507', '163', '507', '190', '450', '190'], ['674', '305', '708', '305', '709', '352', '674', '353'], ['1419', '942', '1446', '942', '1446', '965', '1419', '965'], ['1109', '641', '1135', '641', '1135', '667', '1109', '666'], ['946', '940', '969', '940', '968', '962', '946', '962'], ['1342', '941', '1368', '941', '1368', '966', '1342', '966'], ['603', '998', '646', '998', '646', '1020', '603', '1020'], ['1400', '678', '1421', '679', '1421', '706', '1400', '706'], ['995', '445', '1040', '444', '1040', '468', '995', '469'], ['711', '319', '742', '319', '742', '363', '711', '363'], ['1057', '320', '1090', '320', '1091', '349', '1057', '349'], ['1133', '449', '1173', '449', '1173', '476', '1133', '476'], ['967', '371', '999', '371', '999', '447', '967', '447'], ['1119', '183', '1139', '183', '1139', '210', '1119', '210'], ['1065', '408', '1119', '408', '1117', '608', '1062', '607'], ['1168', '332', '1193', '331', '1193', '364', '1168', '364'], ['1159', '599', '1185', '599', '1185', '632', '1159', '632'], ['481', '907', '512', '907', '512', '943', '481', '943'], ['425', '908', '460', '908', '460', '945', '425', '945'], ['997', '926', '1053', '926', '1052', '987', '996', '987'], ['1201', '542', '1231', '542', '1231', '571', '1201', '571'], ['713', '368', '740', '368', '740', '401', '713', '401'], ['336', '379', '358', '379', '358', '412', '336', '412'], ['414', '286', '443', '285', '443', '312', '414', '312'], ['551', '359', '586', '360', '586', '410', '551', '410']]\n"
     ]
    }
   ],
   "source": [
    "file2 = open(\"22.txt\")\n",
    "# 按行读取\n",
    "contents = file2.readlines()\n",
    " \n",
    "# 数组\n",
    "arr2 = []\n",
    " \n",
    "for item in contents:\n",
    "    # 清除换行、空格\n",
    "    content = item.strip()\n",
    "    # 按照\",\"分割\n",
    "    temp = content.split(\",\")\n",
    "    arr2.append(temp)\n",
    "print(arr2)"
   ]
  },
  {
   "cell_type": "code",
   "execution_count": 4,
   "metadata": {},
   "outputs": [
    {
     "name": "stdout",
     "output_type": "stream",
     "text": [
      "956 1160\n",
      "853 877\n"
     ]
    }
   ],
   "source": [
    "height1=int(arr1[0][0])#小\n",
    "height2=int(arr1[0][2])#大\n",
    "\n",
    "width1=int(arr1[0][1])#小\n",
    "width2=int(arr1[0][5])#大\n",
    "print(height1,height2)\n",
    "print(width1,width2)"
   ]
  },
  {
   "cell_type": "code",
   "execution_count": 5,
   "metadata": {},
   "outputs": [
    {
     "name": "stdout",
     "output_type": "stream",
     "text": [
      "100\n"
     ]
    }
   ],
   "source": [
    "#共有100行\n",
    "print (len(arr2)) "
   ]
  },
  {
   "cell_type": "code",
   "execution_count": 16,
   "metadata": {},
   "outputs": [
    {
     "data": {
      "text/plain": [
       "['55', '584', '93', '584', '91', '831', '54', '831']"
      ]
     },
     "execution_count": 16,
     "metadata": {},
     "output_type": "execute_result"
    }
   ],
   "source": [
    "found=[]\n",
    "found=arr2[0]\n",
    "found"
   ]
  },
  {
   "cell_type": "code",
   "execution_count": 20,
   "metadata": {},
   "outputs": [
    {
     "data": {
      "text/plain": [
       "8"
      ]
     },
     "execution_count": 20,
     "metadata": {},
     "output_type": "execute_result"
    }
   ],
   "source": [
    "2**3"
   ]
  },
  {
   "cell_type": "code",
   "execution_count": 46,
   "metadata": {},
   "outputs": [
    {
     "name": "stdout",
     "output_type": "stream",
     "text": [
      "3\n"
     ]
    },
    {
     "name": "stderr",
     "output_type": "stream",
     "text": [
      "D:\\Python3\\lib\\site-packages\\skimage\\io\\_plugins\\matplotlib_plugin.py:51: FutureWarning: Conversion of the second argument of issubdtype from `float` to `np.floating` is deprecated. In future, it will be treated as `np.float64 == np.dtype(float).type`.\n",
      "  out_of_range_float = (np.issubdtype(image.dtype, np.float) and\n",
      "D:\\Python3\\lib\\site-packages\\matplotlib\\axes\\_base.py:1400: MatplotlibDeprecationWarning: The 'box-forced' keyword argument is deprecated since 2.2.\n",
      "  \" since 2.2.\", cbook.mplDeprecation)\n"
     ]
    },
    {
     "name": "stdout",
     "output_type": "stream",
     "text": [
      "14\n",
      "12\n"
     ]
    },
    {
     "data": {
      "image/png": "[encoded data removed]",
      "text/plain": [
       "<Figure size 432x288 with 1 Axes>"
      ]
     },
     "metadata": {},
     "output_type": "display_data"
    }
   ],
   "source": [
    "#遍历第一张图中每个bounding box的左上角点的坐标记为X\n",
    "#以X为中心，做一个边长为42像素的正方形REC\n",
    "#在第二张图中判断是否存在左上角Y在REC范围内的bounding box\n",
    "area=35#像素值\n",
    "found_column=0#储存匹配到的bounding box在txt文件中的列数\n",
    "for i in range(3):#遍历第一张图中的bounding box\n",
    "    count=0#计数\n",
    "    for j in range(len(arr2)):#遍历第二张图中的bounding box\n",
    "    #最大像素偏移量为10\n",
    "    #对bounding box的某一点10*10像素的区域内找相同位置的点\n",
    "        if(int(arr2[j][0])-area)<int(arr1[i][0])<(int(arr2[j][0])+area)and(int(arr2[j][1])-area)<int(arr1[i][1])<(int(arr2[j][1])+area):\n",
    "            if count==0:#如果这是第一个满足条件的点，让found_column记录它\n",
    "                found_column=j\n",
    "            elif count>0:#如果这不是第一个满足条件的点，进行筛选，选择离它最近的点\n",
    "                if (int(arr2[found_column][0])-int(arr1[i][0]))**2+(int(arr2[found_column][1])-int(arr1[i][1]))**2 > (int(arr2[j][0])-int(arr1[i][0]))**2+(int(arr2[j][1])-int(arr1[i][1]))**2:\n",
    "                    found_column=j\n",
    "                  \n",
    "            count=count+1#计数，筛选在限定范围内，满足上式条件的bounding box\n",
    "    print(found_column)#在这里执行每一步操作，缩进距离和第一个for相同\n",
    "    height1=int(arr2[found_column][0])#小\n",
    "    height2=int(arr2[found_column][2])#大\n",
    "    width1=int(arr2[found_column][1])#小\n",
    "    width2=int(arr2[found_column][5])#大\n",
    "    img=cv2.imread(\"result\\\\11.jpg\")\n",
    "    roi=img[width1:width2,height1:height2,:]\n",
    "    #roi=img[80:180,100:200,:]\n",
    "    io.imshow(roi)\n",
    "    img.shape"
   ]
  },
  {
   "cell_type": "code",
   "execution_count": 48,
   "metadata": {},
   "outputs": [
    {
     "name": "stderr",
     "output_type": "stream",
     "text": [
      "D:\\Python3\\lib\\site-packages\\skimage\\io\\_plugins\\matplotlib_plugin.py:51: FutureWarning: Conversion of the second argument of issubdtype from `float` to `np.floating` is deprecated. In future, it will be treated as `np.float64 == np.dtype(float).type`.\n",
      "  out_of_range_float = (np.issubdtype(image.dtype, np.float) and\n",
      "D:\\Python3\\lib\\site-packages\\matplotlib\\axes\\_base.py:1400: MatplotlibDeprecationWarning: The 'box-forced' keyword argument is deprecated since 2.2.\n",
      "  \" since 2.2.\", cbook.mplDeprecation)\n"
     ]
    },
    {
     "data": {
      "text/plain": [
       "(1080, 1484, 3)"
      ]
     },
     "execution_count": 48,
     "metadata": {},
     "output_type": "execute_result"
    },
    {
     "data": {
      "image/png": "[encoded data removed]",
      "text/plain": [
       "<Figure size 432x288 with 1 Axes>"
      ]
     },
     "metadata": {},
     "output_type": "display_data"
    }
   ],
   "source": [
    "    height1=int(arr1[i][0])#小\n",
    "    height2=int(arr1[i][2])#大\n",
    "    width1=int(arr1[i][1])#小\n",
    "    width2=int(arr1[i][5])#大\n",
    "    img=cv2.imread(\"result\\\\11.jpg\")\n",
    "    roi=img[width1:width2,height1:height2,:]\n",
    "    #roi=img[80:180,100:200,:]\n",
    "    io.imshow(roi)\n",
    "    img.shape"
   ]
  },
  {
   "cell_type": "code",
   "execution_count": 22,
   "metadata": {},
   "outputs": [
    {
     "name": "stdout",
     "output_type": "stream",
     "text": [
      "1\n"
     ]
    }
   ],
   "source": [
    "a=1\n",
    "b=2\n",
    "if a<b:\n",
    "    print(a)"
   ]
  },
  {
   "cell_type": "code",
   "execution_count": 18,
   "metadata": {},
   "outputs": [
    {
     "data": {
      "text/plain": [
       "<matplotlib.image.AxesImage at 0x2986f38c208>"
      ]
     },
     "execution_count": 18,
     "metadata": {},
     "output_type": "execute_result"
    },
    {
     "data": {
      "image/png": "[encoded data removed]",
      "text/plain": [
       "<Figure size 432x288 with 1 Axes>"
      ]
     },
     "metadata": {},
     "output_type": "display_data"
    }
   ],
   "source": [
    "img=cv2.imread(\"result//22.jpg\")\n",
    "plt.imshow(img)"
   ]
  },
  {
   "cell_type": "code",
   "execution_count": 19,
   "metadata": {},
   "outputs": [
    {
     "data": {
      "text/plain": [
       "'\\nfor i in range(20):\\n    height1=int(arr[i][0])#小\\n    height2=int(arr[i][2])#大\\n    width1=int(arr[i][1])#小\\n    width2=int(arr[i][5])#大\\n    #print(height1,height2)\\n    cv2.rectangle(img,(height1,width2),(height2,width1),(0,255,0),3)\\n    cv2.imwrite(\"result\\\\%d.jpg\"%(i),img)\\n    #print(\"你好%d\"%(a))\\n    #cv2.resizeWindow(\"enhanced\", 640, 480);\\n#cv2.imshow(\"Image\",img)\\nplt.imshow(img)\\n#cv2.waitKey(0)\\n#cv2.destroyAllWindows()\\n'"
      ]
     },
     "execution_count": 19,
     "metadata": {},
     "output_type": "execute_result"
    }
   ],
   "source": [
    "'''\n",
    "for i in range(20):\n",
    "    height1=int(arr[i][0])#小\n",
    "    height2=int(arr[i][2])#大\n",
    "    width1=int(arr[i][1])#小\n",
    "    width2=int(arr[i][5])#大\n",
    "    #print(height1,height2)\n",
    "    cv2.rectangle(img,(height1,width2),(height2,width1),(0,255,0),3)\n",
    "    cv2.imwrite(\"result\\\\%d.jpg\"%(i),img)\n",
    "    #print(\"你好%d\"%(a))\n",
    "    #cv2.resizeWindow(\"enhanced\", 640, 480);\n",
    "#cv2.imshow(\"Image\",img)\n",
    "plt.imshow(img)\n",
    "#cv2.waitKey(0)\n",
    "#cv2.destroyAllWindows()\n",
    "'''"
   ]
  },
  {
   "cell_type": "code",
   "execution_count": 21,
   "metadata": {},
   "outputs": [
    {
     "name": "stderr",
     "output_type": "stream",
     "text": [
      "D:\\Python3\\lib\\site-packages\\skimage\\io\\_plugins\\matplotlib_plugin.py:51: FutureWarning: Conversion of the second argument of issubdtype from `float` to `np.floating` is deprecated. In future, it will be treated as `np.float64 == np.dtype(float).type`.\n",
      "  out_of_range_float = (np.issubdtype(image.dtype, np.float) and\n",
      "D:\\Python3\\lib\\site-packages\\matplotlib\\axes\\_base.py:1400: MatplotlibDeprecationWarning: The 'box-forced' keyword argument is deprecated since 2.2.\n",
      "  \" since 2.2.\", cbook.mplDeprecation)\n"
     ]
    },
    {
     "data": {
      "text/plain": [
       "(1080, 1484, 3)"
      ]
     },
     "execution_count": 21,
     "metadata": {},
     "output_type": "execute_result"
    },
    {
     "data": {
      "image/png": "[encoded data removed]",
      "text/plain": [
       "<Figure size 432x288 with 1 Axes>"
      ]
     },
     "metadata": {},
     "output_type": "display_data"
    }
   ],
   "source": [
    "\n",
    "img=cv2.imread(\"result\\\\11.jpg\")\n",
    "roi=img[width1:width2,height1:height2,:]\n",
    "#roi=img[80:180,100:200,:]\n",
    "io.imshow(roi)\n",
    "a=1\n",
    "img.shape"
   ]
  },
  {
   "cell_type": "raw",
   "metadata": {},
   "source": [
    "roi"
   ]
  },
  {
   "cell_type": "code",
   "execution_count": null,
   "metadata": {},
   "outputs": [],
   "source": []
  }
 ],
 "metadata": {
  "kernelspec": {
   "display_name": "Python 3",
   "language": "python",
   "name": "python3"
  }
 },
 "nbformat": 4,
 "nbformat_minor": 2
}
