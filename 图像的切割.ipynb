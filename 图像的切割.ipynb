{
 "cells": [
  {
   "cell_type": "code",
   "execution_count": null,
   "metadata": {},
   "outputs": [],
   "source": [
    "from skimage import io,data\n",
    "from matplotlib import pyplot as plt\n",
    "import numpy as np\n",
    "import cv2"
   ]
  },
  {
   "cell_type": "code",
   "execution_count": null,
   "metadata": {},
   "outputs": [],
   "source": [
    "file1 = open(\"11.txt\")\n",
    "# 按行读取\n",
    "contents = file1.readlines()\n",
    " \n",
    "# 数组\n",
    "arr1 = []\n",
    " \n",
    "for item in contents:\n",
    "    # 清除换行、空格\n",
    "    content = item.strip()\n",
    "    # 按照\",\"分割\n",
    "    temp = content.split(\",\")\n",
    "    arr1.append(temp)\n",
    "print(arr1)"
   ]
  },
  {
   "cell_type": "code",
   "execution_count": null,
   "metadata": {},
   "outputs": [],
   "source": [
    "file2 = open(\"22.txt\")\n",
    "# 按行读取\n",
    "contents = file2.readlines()\n",
    " \n",
    "# 数组\n",
    "arr2 = []\n",
    " \n",
    "for item in contents:\n",
    "    # 清除换行、空格\n",
    "    content = item.strip()\n",
    "    # 按照\",\"分割\n",
    "    temp = content.split(\",\")\n",
    "    arr2.append(temp)\n",
    "print(arr2)"
   ]
  },
  {
   "cell_type": "code",
   "execution_count": null,
   "metadata": {},
   "outputs": [],
   "source": [
    "height1=int(arr1[0][0])#小\n",
    "height2=int(arr1[0][2])#大\n",
    "\n",
    "width1=int(arr1[0][1])#小\n",
    "width2=int(arr1[0][5])#大\n",
    "print(height1,height2)\n",
    "print(width1,width2)"
   ]
  },
  {
   "cell_type": "code",
   "execution_count": null,
   "metadata": {},
   "outputs": [],
   "source": [
    "#共有100行\n",
    "print (len(arr2)) "
   ]
  },
  {
   "cell_type": "code",
   "execution_count": null,
   "metadata": {},
   "outputs": [],
   "source": [
    "#遍历第一张图中每个bounding box的左上角点的坐标记为X\n",
    "#以X为中心，做一个边长为42像素的正方形REC\n",
    "#在第二张图中判断是否存在左上角Y在REC范围内的bounding box\n",
    "temp=21#像素值\n",
    "\n",
    "for i in range(100):#遍历第一张图中的bounding box\n",
    "    count=0#计数\n",
    "    for j in range(len(arr2)):#遍历第二张图中的bounding box\n",
    "    #最大像素偏移量为10\n",
    "    #对bounding box的某一点10*10像素的区域内找相同位置的点\n",
    "        if(int(arr2[j][0])-temp)<int(arr1[i][0])<(int(arr2[j][0])+temp)and(int(arr2[j][1])-temp)<int(arr1[i][1])<(int(arr2[j][1])+temp):\n",
    "            count=count+1\n",
    "    print(count)"
   ]
  },
  {
   "cell_type": "code",
   "execution_count": null,
   "metadata": {},
   "outputs": [],
   "source": [
    "#for i in range(10):#最大像素偏移量为10\n",
    "for j in range(100):#在第二个txt文件里依次检索满足上一条件\n",
    "    if (int(arr2[j][0])-10) < int(arr1[0][0]) <（int(arr2[j][0])+10):\n",
    "        \n",
    "        if (int(arr2[j][1])-10)<int(arr1[0][1])<（int(arr2[j][1])+10):\n",
    "            print(j)\n",
    "             \n",
    "    "
   ]
  },
  {
   "cell_type": "code",
   "execution_count": null,
   "metadata": {},
   "outputs": [],
   "source": [
    "1<=2<=3"
   ]
  },
  {
   "cell_type": "code",
   "execution_count": 18,
   "metadata": {},
   "outputs": [
    {
     "data": {
      "text/plain": [
       "<matplotlib.image.AxesImage at 0x2986f38c208>"
      ]
     },
     "execution_count": 18,
     "metadata": {},
     "output_type": "execute_result"
    },
    {
     "data": {
      "image/png": "[encoded data removed]",
      "text/plain": [
       "<Figure size 432x288 with 1 Axes>"
      ]
     },
     "metadata": {},
     "output_type": "display_data"
    }
   ],
   "source": [
    "img=cv2.imread(\"result//22.jpg\")\n",
    "plt.imshow(img)"
   ]
  },
  {
   "cell_type": "code",
   "execution_count": 19,
   "metadata": {},
   "outputs": [
    {
     "data": {
      "text/plain": [
       "'\\nfor i in range(20):\\n    height1=int(arr[i][0])#小\\n    height2=int(arr[i][2])#大\\n    width1=int(arr[i][1])#小\\n    width2=int(arr[i][5])#大\\n    #print(height1,height2)\\n    cv2.rectangle(img,(height1,width2),(height2,width1),(0,255,0),3)\\n    cv2.imwrite(\"result\\\\%d.jpg\"%(i),img)\\n    #print(\"你好%d\"%(a))\\n    #cv2.resizeWindow(\"enhanced\", 640, 480);\\n#cv2.imshow(\"Image\",img)\\nplt.imshow(img)\\n#cv2.waitKey(0)\\n#cv2.destroyAllWindows()\\n'"
      ]
     },
     "execution_count": 19,
     "metadata": {},
     "output_type": "execute_result"
    }
   ],
   "source": [
    "'''\n",
    "for i in range(20):\n",
    "    height1=int(arr[i][0])#小\n",
    "    height2=int(arr[i][2])#大\n",
    "    width1=int(arr[i][1])#小\n",
    "    width2=int(arr[i][5])#大\n",
    "    #print(height1,height2)\n",
    "    cv2.rectangle(img,(height1,width2),(height2,width1),(0,255,0),3)\n",
    "    cv2.imwrite(\"result\\\\%d.jpg\"%(i),img)\n",
    "    #print(\"你好%d\"%(a))\n",
    "    #cv2.resizeWindow(\"enhanced\", 640, 480);\n",
    "#cv2.imshow(\"Image\",img)\n",
    "plt.imshow(img)\n",
    "#cv2.waitKey(0)\n",
    "#cv2.destroyAllWindows()\n",
    "'''"
   ]
  },
  {
   "cell_type": "code",
   "execution_count": 21,
   "metadata": {},
   "outputs": [
    {
     "name": "stderr",
     "output_type": "stream",
     "text": [
      "D:\\Python3\\lib\\site-packages\\skimage\\io\\_plugins\\matplotlib_plugin.py:51: FutureWarning: Conversion of the second argument of issubdtype from `float` to `np.floating` is deprecated. In future, it will be treated as `np.float64 == np.dtype(float).type`.\n",
      "  out_of_range_float = (np.issubdtype(image.dtype, np.float) and\n",
      "D:\\Python3\\lib\\site-packages\\matplotlib\\axes\\_base.py:1400: MatplotlibDeprecationWarning: The 'box-forced' keyword argument is deprecated since 2.2.\n",
      "  \" since 2.2.\", cbook.mplDeprecation)\n"
     ]
    },
    {
     "data": {
      "text/plain": [
       "(1080, 1484, 3)"
      ]
     },
     "execution_count": 21,
     "metadata": {},
     "output_type": "execute_result"
    },
    {
     "data": {
      "image/png": "[encoded data removed]",
      "text/plain": [
       "<Figure size 432x288 with 1 Axes>"
      ]
     },
     "metadata": {},
     "output_type": "display_data"
    }
   ],
   "source": [
    "\n",
    "img=cv2.imread(\"result\\\\11.jpg\")\n",
    "roi=img[width1:width2,height1:height2,:]\n",
    "#roi=img[80:180,100:200,:]\n",
    "io.imshow(roi)\n",
    "a=1\n",
    "img.shape"
   ]
  },
  {
   "cell_type": "raw",
   "metadata": {},
   "source": [
    "roi"
   ]
  },
  {
   "cell_type": "code",
   "execution_count": null,
   "metadata": {},
   "outputs": [],
   "source": []
  }
 ],
 "metadata": {
  "kernelspec": {
   "display_name": "Python 3",
   "language": "python",
   "name": "python3"
  },
  "language_info": {
   "codemirror_mode": {
    "name": "ipython",
    "version": 3
   },
   "file_extension": ".py",
   "mimetype": "text/x-python",
   "name": "python",
   "nbconvert_exporter": "python",
   "pygments_lexer": "ipython3",
   "version": "3.6.5"
  }
 },
 "nbformat": 4,
 "nbformat_minor": 2
}
