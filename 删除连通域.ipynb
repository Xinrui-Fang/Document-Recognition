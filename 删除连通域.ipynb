{
 "cells": [
  {
   "cell_type": "code",
   "execution_count": 130,
   "metadata": {},
   "outputs": [],
   "source": [
    "#代码结构：\n",
    "# binary_image(filename)——将图片转化为二值图像\n",
    "# find_fa(x)——应用于two_pass(img, mask=255, area=100)函数，用于寻找同一连通域的根节点\n",
    "# two_pass(img, mask=255, area=100)——删除较大连通域，实现图文分离\n",
    "# showimg()——显示并保存图像"
   ]
  },
  {
   "cell_type": "code",
   "execution_count": 131,
   "metadata": {},
   "outputs": [],
   "source": [
    "import numpy as np\n",
    "from PIL import Image\n",
    "import skimage.io\n",
    "import cv2\n",
    "from matplotlib import pyplot as plt"
   ]
  },
  {
   "cell_type": "code",
   "execution_count": 117,
   "metadata": {},
   "outputs": [],
   "source": [
    "\n",
    "def binary_image(filename):\n",
    "    img=cv2.imread(filename)\n",
    "    GrayImage=cv2.cvtColor(img,cv2.COLOR_BGR2GRAY)\n",
    "    # 中值滤波\n",
    "    #删除，会影响结果精确度\n",
    "    #GrayImage= cv2.medianBlur(GrayImage,5)\n",
    "    #转化为二值图，其中阈值=140\n",
    "    ret,img = cv2.threshold(GrayImage,140,255,cv2.THRESH_BINARY_INV)\n",
    "    #plt.imshow(th1)\n",
    "    print(img.shape)\n",
    "    return img"
   ]
  },
  {
   "cell_type": "code",
   "execution_count": 118,
   "metadata": {},
   "outputs": [],
   "source": [
    "#来源：https://blog.csdn.net/csuhoward/article/details/78818244\n",
    "#要用到两个库，cv2和numpy\n",
    "\n",
    "#find father and update\n",
    "#使用union-find结构\n",
    "#https://blog.csdn.net/hemeinvyiqiluoben/article/details/39854315\n",
    "def find_fa(x):\n",
    "    global count,fa,cc\n",
    "\n",
    "    fx = fa[x]#父节点指向子节点\n",
    "    if fa[fx] == fx:#if father has no father, no more search\n",
    "        return fx\n",
    "    else:#update x's father\n",
    "        fa[x] = find_fa(fx)\n",
    "        return fa[x]"
   ]
  },
  {
   "cell_type": "code",
   "execution_count": 119,
   "metadata": {},
   "outputs": [],
   "source": [
    "#种子填充法寻找连通域\n",
    "def two_pass(img, mask=255, area=100):#255是白色的意思，100是连通区域阈值大小\n",
    "    #init merge and find set\n",
    "    global count,fa,cc\n",
    "    fa = list(range(img.shape[0]*img.shape[1])) #父节点\n",
    "    # range() 函数返回的是一个可迭代对象\n",
    "    #img.shape[]是opencv里面的函数，其中shape[0]是垂直像素数量\n",
    "    #https://blog.csdn.net/u014345473/article/details/80631467\n",
    "    cc = np.zeros(img.shape[0]*img.shape[1]) #count connected components area of fa[]\n",
    "    #初始的时候每个像素都默认为一个独立的连通域，并附初值为1\n",
    "    cc = cc+1#全部置为1\n",
    "\n",
    "    dx = [0,0,-1,1,-1,-1,1,1]\n",
    "    dy = [-1,1,0,0,-1,1,-1,1]\n",
    "\n",
    "    for i in range(img.shape[0]):\n",
    "        for j in range(img.shape[1]):\n",
    "            if (img[i,j] == mask).any():\n",
    "                for dir in range(8):#这是八连通\n",
    "                    nx = dx[dir] + i\n",
    "                    ny = dy[dir] + j\n",
    "                    if nx >= 0 and nx < img.shape[0] and ny >= 0 and ny < img.shape[1] and (img[nx,ny] == mask).all():\n",
    "                        a = i*img.shape[1]+j#a=X*总的行数+Y\n",
    "                        b = nx*img.shape[1]+ny#b=新的标记值\n",
    "                        pa = find_fa(a)#shorten chain\n",
    "                         #pa是a的根节点\n",
    "                        pb = find_fa(b)#\n",
    "                        #pb是b的根节点\n",
    "                        #merge father\n",
    "                        if pa<pb:\n",
    "                            fa[pb]=pa\n",
    "                            cc[pa]+=cc[pb]#cc是用来计数的\n",
    "                            cc[pb]=0\n",
    "                        elif pa>pb:\n",
    "                            fa[pa]=pb\n",
    "                            cc[pb]+=cc[pa]\n",
    "                            cc[pa]=0\n",
    "\n",
    "    for i in range(img.shape[0]):\n",
    "        for j in range(img.shape[1]):\n",
    "            if (img[i,j] == mask).any():#白色\n",
    "                a = i*img.shape[1]+j\n",
    "                find_fa(a)#找a的爸爸就完了，这一步的操作是多余的\n",
    "\n",
    "    count = 0\n",
    "    colormap = np.zeros((img.shape[0],img.shape[1],3))#color hash table#这个是啥意思？\n",
    "    for i in range(img.shape[0]):\n",
    "        for j in range(img.shape[1]):\n",
    "            if (img[i,j] == mask).any():\n",
    "                a = i*img.shape[1]+j\n",
    "                pa = find_fa(a)\n",
    "                if cc[pa] <= 300: # connected components with area >= 100 pixels\n",
    "                    pa_i = pa // img.shape[1]#改\n",
    "                    pa_j = pa % img.shape[1]\n",
    "                    if np.max(colormap[pa_i,pa_j,:]) == 0:\n",
    "                        #彩色\n",
    "                        colormap[pa_i,pa_j,:] = np.random.randint(256,size=3)\n",
    "                        #白色\n",
    "                        colormap[pa_i,pa_j,:] = np.array([255,255,255])\n",
    "                        count += 1\n",
    "                    colormap[i,j,:] = colormap[pa_i,pa_j,:]\n",
    "    print(count)\n",
    "    return colormap"
   ]
  },
  {
   "cell_type": "code",
   "execution_count": 128,
   "metadata": {},
   "outputs": [],
   "source": [
    "#输入图片名称及格式，例如：（‘example.jpg’）\n",
    "def showimg():\n",
    "    img=binary_image('fig2.png')\n",
    "    d=two_pass(img, mask=255, area=100)\n",
    "    plt.imshow(d[:,:,:])#show\n",
    "    cv2.imwrite(\"result\\\\fig2.jpg\",d)#save"
   ]
  },
  {
   "cell_type": "code",
   "execution_count": 129,
   "metadata": {},
   "outputs": [
    {
     "name": "stdout",
     "output_type": "stream",
     "text": [
      "(2821, 4000)\n",
      "2656\n"
     ]
    },
    {
     "name": "stderr",
     "output_type": "stream",
     "text": [
      "Clipping input data to the valid range for imshow with RGB data ([0..1] for floats or [0..255] for integers).\n"
     ]
    },
    {
     "data": {
      "image/png": "[encoded data removed]",
      "text/plain": [
       "<Figure size 432x288 with 1 Axes>"
      ]
     },
     "metadata": {},
     "output_type": "display_data"
    }
   ],
   "source": [
    "showimg()\n",
    "   "
   ]
  }
 ],
 "metadata": {
  "kernelspec": {
   "display_name": "Python 3",
   "language": "python",
   "name": "python3"
  },
  "language_info": {
   "codemirror_mode": {
    "name": "ipython",
    "version": 3
   },
   "file_extension": ".py",
   "mimetype": "text/x-python",
   "name": "python",
   "nbconvert_exporter": "python",
   "pygments_lexer": "ipython3",
   "version": "3.6.5"
  }
 },
 "nbformat": 4,
 "nbformat_minor": 2
}
